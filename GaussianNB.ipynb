{
 "cells": [
  {
   "cell_type": "code",
   "execution_count": null,
   "metadata": {},
   "outputs": [],
   "source": [
    "import numpy as np\n",
    "from sklearn.naive_bayes import GaussianNB\n",
    "\n",
    "#Assigning features and target variables\n",
    "#Training data\n",
    "features = np.array([[1,2],[3,4], [5,6], [-1,-2], [-3,-4], [-5,-6]])\n",
    "target = np.array([10, 20, 20, 10, 20, 20])\n",
    "\n",
    "#Creating a Gaussian Classifier\n",
    "model = GaussianNB()\n",
    "\n",
    "#Train the model using training data\n",
    "model.fit(features, target)\n",
    "\n",
    "#Predict Output \n",
    "predictedOutput = model.predict([[3,2],[1,3]])\n",
    "print (predictedOutput)\n",
    "\n",
    "#Output: ([20 10])"
   ]
  }
 ],
 "metadata": {
  "kernelspec": {
   "display_name": "Python 3",
   "language": "python",
   "name": "python3"
  },
  "language_info": {
   "codemirror_mode": {
    "name": "ipython",
    "version": 3
   },
   "file_extension": ".py",
   "mimetype": "text/x-python",
   "name": "python",
   "nbconvert_exporter": "python",
   "pygments_lexer": "ipython3",
   "version": "3.6.4"
  }
 },
 "nbformat": 4,
 "nbformat_minor": 2
}
